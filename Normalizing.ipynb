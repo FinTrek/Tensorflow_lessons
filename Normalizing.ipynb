{
 "cells": [
  {
   "cell_type": "code",
   "execution_count": 33,
   "metadata": {},
   "outputs": [],
   "source": [
    "import matplotlib.pyplot as plt\n",
    "import numpy as np\n",
    "import pandas as pd\n",
    "import sklearn\n",
    "from sklearn import linear_model\n",
    "from sklearn.metrics import mean_squared_error,r2_score\n",
    "\n",
    "from sklearn.preprocessing import MinMaxScaler"
   ]
  },
  {
   "cell_type": "code",
   "execution_count": 15,
   "metadata": {},
   "outputs": [
    {
     "name": "stdout",
     "output_type": "stream",
     "text": [
      "x shape: (20,)\n",
      "y shape: (20,)\n",
      "    x         y\n",
      "0 -10  3.380515\n",
      "1  -9 -4.637332\n",
      "2  -8 -1.157821\n",
      "3  -7 -0.374586\n",
      "4  -6  0.142547\n",
      "Combined data shape is:  (20, 2)\n"
     ]
    },
    {
     "data": {
      "image/png": "[encoded data removed]",
      "text/plain": [
       "<matplotlib.figure.Figure at 0x7f1e7ef66ac8>"
      ]
     },
     "metadata": {},
     "output_type": "display_data"
    }
   ],
   "source": [
    "x = np.arange(-10,10)\n",
    "#copy of the original x[]\n",
    "og_x = x\n",
    "print(\"x shape:\",x.shape)\n",
    "#try changing the denominator in the tan function here\n",
    "# 2,5,8\n",
    "y = np.tan(np.arange(-10,10)/2)\n",
    "#copy of y\n",
    "og_y = y\n",
    "#combine into dictionary \n",
    "data = {\"x\":x,\"y\":y}\n",
    "print(\"y shape:\",y.shape)\n",
    "data = pd.DataFrame(data)\n",
    "print(data.head())\n",
    "print(\"Combined data shape is: \",data.shape)\n",
    "\n",
    "\n",
    "#print(x,y)\n",
    "plt.plot(x,y)\n",
    "#plt.plot(data)\n",
    "plt.show()"
   ]
  },
  {
   "cell_type": "code",
   "execution_count": 16,
   "metadata": {},
   "outputs": [
    {
     "data": {
      "image/png": "[encoded data removed]",
      "text/plain": [
       "<matplotlib.figure.Figure at 0x7f1e7ecd8cf8>"
      ]
     },
     "metadata": {},
     "output_type": "display_data"
    }
   ],
   "source": [
    "plt.hist(x, bins=20)\n",
    "plt.show()"
   ]
  },
  {
   "cell_type": "code",
   "execution_count": null,
   "metadata": {},
   "outputs": [],
   "source": [
    "MinMax formula:\n",
    "y = (x - min) / (max - min)   "
   ]
  },
  {
   "cell_type": "code",
   "execution_count": 32,
   "metadata": {},
   "outputs": [
    {
     "name": "stdout",
     "output_type": "stream",
     "text": [
      "Original x:[-10.] Transformed x: [ 0.]\n",
      "Original x:[-9.] Transformed x: [ 0.05263158]\n",
      "Original x:[-8.] Transformed x: [ 0.10526316]\n",
      "Original x:[-7.] Transformed x: [ 0.15789474]\n",
      "Original x:[-6.] Transformed x: [ 0.21052632]\n",
      "...\n",
      "Original x:[ 9.] Transformed x: [ 1.]\n"
     ]
    }
   ],
   "source": [
    "#get 2d array of x/y for fitting the model\n",
    "x = np.c_[data[\"x\"].astype(float)]\n",
    "y = np.c_[data[\"y\"].astype(float)]\n",
    "scaler = sklearn.preprocessing.MinMaxScaler(feature_range=(0,1))\n",
    "scaler.fit(x)\n",
    "normal_data = scaler.transform(x)\n",
    "last_i = len(x)-1\n",
    "for i in range(5):\n",
    "    print(\"Original x:{} Transformed x: {}\".format(x[i],normal_data[i]))\n",
    "print(\"...\\nOriginal x:{} Transformed x: {}\".format(x[last_i],normal_data[last_i]))\n",
    "#plt.hist(normal_data, bins=20)\n",
    "#plt.show()"
   ]
  },
  {
   "cell_type": "code",
   "execution_count": null,
   "metadata": {},
   "outputs": [],
   "source": []
  }
 ],
 "metadata": {
  "kernelspec": {
   "display_name": "Python 3",
   "language": "python",
   "name": "python3"
  },
  "language_info": {
   "codemirror_mode": {
    "name": "ipython",
    "version": 3
   },
   "file_extension": ".py",
   "mimetype": "text/x-python",
   "name": "python",
   "nbconvert_exporter": "python",
   "pygments_lexer": "ipython3",
   "version": "3.6.3"
  }
 },
 "nbformat": 4,
 "nbformat_minor": 2
}
