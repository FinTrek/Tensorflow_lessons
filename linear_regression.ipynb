{
 "cells": [
  {
   "cell_type": "code",
   "execution_count": 6,
   "metadata": {},
   "outputs": [],
   "source": [
    "import numpy as np \n",
    "import tensorflow as tf \n",
    "import matplotlib.pyplot as plt "
   ]
  },
  {
   "cell_type": "code",
   "execution_count": 7,
   "metadata": {},
   "outputs": [],
   "source": [
    "# Genrating random linear data \n",
    "# There will be 50 data points ranging from 0 to 50 \n",
    "x = np.linspace(0, 50, 50) \n",
    "y = np.linspace(0, 50, 50) \n",
    "  \n",
    "# Adding noise to the random linear data \n",
    "x += np.random.uniform(-4, 4, 50) \n",
    "y += np.random.uniform(-4, 4, 50) \n",
    "  \n",
    "n = len(x) # Number of data points \n"
   ]
  },
  {
   "cell_type": "code",
   "execution_count": 8,
   "metadata": {},
   "outputs": [
    {
     "data": {
      "image/png": "[encoded data removed]",
      "text/plain": [
       "<Figure size 432x288 with 1 Axes>"
      ]
     },
     "metadata": {
      "needs_background": "light"
     },
     "output_type": "display_data"
    }
   ],
   "source": [
    "# Plot of Training Data \n",
    "plt.scatter(x, y) \n",
    "plt.xlabel('x') \n",
    "plt.xlabel('y') \n",
    "plt.title(\"Training Data\") \n",
    "plt.show() "
   ]
  },
  {
   "cell_type": "code",
   "execution_count": 11,
   "metadata": {},
   "outputs": [
    {
     "name": "stderr",
     "output_type": "stream",
     "text": [
      "WARNING: Logging before flag parsing goes to stderr.\n",
      "W0812 11:28:42.039170 139931890140800 deprecation.py:323] From /home/me/Documents/BWA_dash/bwa_dash/lib/python3.7/site-packages/tensorflow/python/ops/math_grad.py:1205: add_dispatch_support.<locals>.wrapper (from tensorflow.python.ops.array_ops) is deprecated and will be removed in a future version.\n",
      "Instructions for updating:\n",
      "Use tf.where in 2.0, which has the same broadcast rule as np.where\n"
     ]
    }
   ],
   "source": [
    "#placeholder for X,Y values\n",
    "X = tf.placeholder(\"float\") \n",
    "Y = tf.placeholder(\"float\") \n",
    "# vairables for weights and bias of the network\n",
    "W = tf.Variable(np.random.randn(), name = \"W\") \n",
    "b = tf.Variable(np.random.randn(), name = \"b\") \n",
    "#Hyperparameters\n",
    "learning_rate = 0.01\n",
    "training_epochs = 1000\n",
    "#predicted y\n",
    "y_pred = tf.add(tf.multiply(X, W), b) \n",
    "# Mean Squared Error Cost Function \n",
    "cost = tf.reduce_sum(tf.pow(y_pred-Y, 2)) / (2 * n) \n",
    "  \n",
    "# Gradient Descent Optimizer\n",
    "optimizer = tf.train.GradientDescentOptimizer(learning_rate).minimize(cost) \n",
    "  \n",
    "# Global Variables Initializer \n",
    "init = tf.global_variables_initializer() "
   ]
  },
  {
   "cell_type": "code",
   "execution_count": 12,
   "metadata": {},
   "outputs": [
    {
     "name": "stdout",
     "output_type": "stream",
     "text": [
      "Epoch 50 : cost = 5.6842217 W = 1.0680636 b = -1.3480767\n",
      "Epoch 100 : cost = 5.686652 W = 1.0676899 b = -1.3309698\n",
      "Epoch 150 : cost = 5.6889167 W = 1.0673537 b = -1.3155831\n",
      "Epoch 200 : cost = 5.6910157 W = 1.0670515 b = -1.3017452\n",
      "Epoch 250 : cost = 5.6929502 W = 1.0667796 b = -1.2893023\n",
      "Epoch 300 : cost = 5.694736 W = 1.0665351 b = -1.2781085\n",
      "Epoch 350 : cost = 5.69637 W = 1.0663154 b = -1.2680501\n",
      "Epoch 400 : cost = 5.6978736 W = 1.0661178 b = -1.2589968\n",
      "Epoch 450 : cost = 5.699239 W = 1.06594 b = -1.2508637\n",
      "Epoch 500 : cost = 5.700488 W = 1.0657802 b = -1.2435429\n",
      "Epoch 550 : cost = 5.701623 W = 1.0656364 b = -1.2369635\n",
      "Epoch 600 : cost = 5.7026587 W = 1.0655072 b = -1.231045\n",
      "Epoch 650 : cost = 5.7035937 W = 1.0653907 b = -1.22572\n",
      "Epoch 700 : cost = 5.7044473 W = 1.0652863 b = -1.2209367\n",
      "Epoch 750 : cost = 5.705218 W = 1.0651922 b = -1.2166305\n",
      "Epoch 800 : cost = 5.7059164 W = 1.0651077 b = -1.2127616\n",
      "Epoch 850 : cost = 5.706544 W = 1.0650318 b = -1.2092891\n",
      "Epoch 900 : cost = 5.7071204 W = 1.0649633 b = -1.2061535\n",
      "Epoch 950 : cost = 5.707638 W = 1.0649018 b = -1.2033362\n",
      "Epoch 1000 : cost = 5.7081056 W = 1.0648465 b = -1.200803\n"
     ]
    }
   ],
   "source": [
    "# Starting the Tensorflow Session \n",
    "with tf.Session() as sess: \n",
    "    # Initializing the Variables \n",
    "    sess.run(init) \n",
    "    # Iterating through all the epochs \n",
    "    for epoch in range(training_epochs):    \n",
    "        # Feeding each data point into the optimizer using Feed Dictionary \n",
    "        for (_x, _y) in zip(x, y): \n",
    "            sess.run(optimizer, feed_dict = {X : _x, Y : _y}) \n",
    "        # Displaying the result after every 50 epochs \n",
    "        if (epoch + 1) % 50 == 0: \n",
    "            # Calculating the cost a every epoch \n",
    "            c = sess.run(cost, feed_dict = {X : x, Y : y}) \n",
    "            print(\"Epoch\", (epoch + 1), \": cost =\", c, \"W =\", sess.run(W), \"b =\", sess.run(b)) \n",
    "    # Storing necessary values to be used outside the Session \n",
    "    training_cost = sess.run(cost, feed_dict ={X: x, Y: y}) \n",
    "    weight = sess.run(W) \n",
    "    bias = sess.run(b) "
   ]
  },
  {
   "cell_type": "code",
   "execution_count": 14,
   "metadata": {},
   "outputs": [
    {
     "data": {
      "image/png": "[encoded data removed]",
      "text/plain": [
       "<Figure size 432x288 with 1 Axes>"
      ]
     },
     "metadata": {
      "needs_background": "light"
     },
     "output_type": "display_data"
    }
   ],
   "source": [
    "# Plotting the Results \n",
    "predictions = weight * x + bias \n",
    "plt.plot(x, y, 'ro', label ='Original data') \n",
    "plt.plot(x, predictions, label ='Fitted line') \n",
    "plt.title('Linear Regression Result') \n",
    "plt.legend() \n",
    "plt.show() "
   ]
  },
  {
   "cell_type": "code",
   "execution_count": null,
   "metadata": {},
   "outputs": [],
   "source": []
  }
 ],
 "metadata": {
  "kernelspec": {
   "display_name": "Python 3",
   "language": "python",
   "name": "python3"
  },
  "language_info": {
   "codemirror_mode": {
    "name": "ipython",
    "version": 3
   },
   "file_extension": ".py",
   "mimetype": "text/x-python",
   "name": "python",
   "nbconvert_exporter": "python",
   "pygments_lexer": "ipython3",
   "version": "3.7.3"
  }
 },
 "nbformat": 4,
 "nbformat_minor": 2
}
