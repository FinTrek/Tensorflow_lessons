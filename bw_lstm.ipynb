{
 "cells": [
  {
   "cell_type": "code",
   "execution_count": 2,
   "metadata": {},
   "outputs": [
    {
     "name": "stderr",
     "output_type": "stream",
     "text": [
      "Using TensorFlow backend.\n"
     ]
    }
   ],
   "source": [
    "import pandas as pd\n",
    "import numpy as np\n",
    "import os\n",
    "import time\n",
    "import math\n",
    "import datetime\n",
    "%matplotlib inline\n",
    "import matplotlib.pyplot as plt\n",
    "import seaborn; seaborn.set()\n",
    "from keras.models import Sequential\n",
    "from keras.layers import Dense\n",
    "from keras.layers import LSTM\n",
    "from sklearn.preprocessing import MinMaxScaler\n",
    "from sklearn.metrics import mean_squared_error\n"
   ]
  },
  {
   "cell_type": "code",
   "execution_count": 3,
   "metadata": {},
   "outputs": [],
   "source": [
    "corr_loc = '/home/me/Documents/BWA/data/corr_data/'\n",
    "for i in os.listdir(corr_loc):\n",
    "    if(\".csv\" not in i):\n",
    "        os.remove(corr_loc+i)\n",
    "        print(i)\n",
    "    #print(i)"
   ]
  },
  {
   "cell_type": "code",
   "execution_count": 4,
   "metadata": {},
   "outputs": [],
   "source": [
    "def get_test(sym):\n",
    "    corr_loc = '/home/me/Documents/BWA/data/bw_data/'\n",
    "    data = pd.read_csv(corr_loc+sym)\n",
    "    data['Open time'] = data['Open time']/1000\n",
    "    data['Open time'] = data['Open time'].astype('datetime64[s]')\n",
    "    data['Close time'] = data['Close time']/1000\n",
    "    data['Close time'] = data['Close time'].astype('datetime64[s]')\n",
    "    #print(data.head())\n",
    "    return data\n",
    "def normalize(data):\n",
    "    norm_close =  data[\"Close\"].divide(data[\"Close\"].iloc[0])\n",
    "    return norm_close\n",
    "def norm(data):\n",
    "    norm = data[:]/data[0]\n",
    "    return norm\n",
    "def create_dataset(dataset, look_back=100):\n",
    "    dataX, dataY = [], []\n",
    "    for i in range(len(dataset)-look_back-1):\n",
    "        a = dataset[i:(i+look_back)]\n",
    "        dataX.append(a)\n",
    "        dataY.append(dataset[i + look_back])\n",
    "    return np.array(dataX), np.array(dataY)\n",
    "\n",
    "def model_strat(df):\n",
    "    df['shifted_2'].fillna(1, inplace=True)\n",
    "    df['Position'] = None\n",
    "    ct = len(df)\n",
    "    for row in range(len(df)):\n",
    "        if(df['Norm Close'].iloc[row]>df['shifted_2'].iloc[row]) and (df['Norm Close'].iloc[row-1]<df['shifted_2'].iloc[row-1]):\n",
    "            df['Position'].iloc[row] = 1\n",
    "        if(df['Norm Close'].iloc[row]<df['shifted_2'].iloc[row]) and (df['Norm Close'].iloc[row-1]>df['shifted_2'].iloc[row-1]):\n",
    "            df['Position'].iloc[row] = -1\n",
    "        if(row%100==0):\n",
    "            print(\"backtesting...{}% done\".format((row/ct)*100))\n",
    "\n",
    "    df['Position'].fillna(method='ffill',inplace=True)\n",
    "    df['Market Return'] = np.log(df['Close'] / df['Close'].shift(1))\n",
    "    df['Strategy Return'] = df['Market Return'] * df['Position']\n",
    "    \n",
    "    return df,df['Strategy Return'].cumsum()    "
   ]
  },
  {
   "cell_type": "code",
   "execution_count": 1,
   "metadata": {},
   "outputs": [
    {
     "ename": "NameError",
     "evalue": "name 'os' is not defined",
     "output_type": "error",
     "traceback": [
      "\u001b[0;31m---------------------------------------------------------------------------\u001b[0m",
      "\u001b[0;31mNameError\u001b[0m                                 Traceback (most recent call last)",
      "\u001b[0;32m<ipython-input-1-681753244488>\u001b[0m in \u001b[0;36m<module>\u001b[0;34m()\u001b[0m\n\u001b[1;32m      1\u001b[0m \u001b[0mci\u001b[0m \u001b[0;34m=\u001b[0m \u001b[0;36m0\u001b[0m\u001b[0;34m\u001b[0m\u001b[0m\n\u001b[0;32m----> 2\u001b[0;31m \u001b[0;32mfor\u001b[0m \u001b[0msym\u001b[0m \u001b[0;32min\u001b[0m \u001b[0mos\u001b[0m\u001b[0;34m.\u001b[0m\u001b[0mlistdir\u001b[0m\u001b[0;34m(\u001b[0m\u001b[0mcorr_loc\u001b[0m\u001b[0;34m)\u001b[0m\u001b[0;34m:\u001b[0m\u001b[0;34m\u001b[0m\u001b[0m\n\u001b[0m\u001b[1;32m      3\u001b[0m     \u001b[0mcurr_data\u001b[0m \u001b[0;34m=\u001b[0m \u001b[0mget_test\u001b[0m\u001b[0;34m(\u001b[0m\u001b[0msym\u001b[0m\u001b[0;34m)\u001b[0m\u001b[0;34m\u001b[0m\u001b[0m\n\u001b[1;32m      4\u001b[0m     \u001b[0;31m#print(i)\u001b[0m\u001b[0;34m\u001b[0m\u001b[0;34m\u001b[0m\u001b[0m\n\u001b[1;32m      5\u001b[0m     \u001b[0mclose_data\u001b[0m \u001b[0;34m=\u001b[0m \u001b[0mnormalize\u001b[0m\u001b[0;34m(\u001b[0m\u001b[0mcurr_data\u001b[0m\u001b[0;34m)\u001b[0m\u001b[0;34m\u001b[0m\u001b[0m\n",
      "\u001b[0;31mNameError\u001b[0m: name 'os' is not defined"
     ]
    }
   ],
   "source": [
    "ci = 0\n",
    "for sym in os.listdir(corr_loc):\n",
    "    curr_data = get_test(sym)\n",
    "    #print(i)\n",
    "    close_data = normalize(curr_data)\n",
    "    curr_data = curr_data.filter(['Close time','Close'])\n",
    "    train_data = pd.read_csv(corr_loc+sym)\n",
    "    test_data = close_data.values\n",
    "    #model_csv = \"./model_data.csv\"\n",
    "    #print(curr_data.head())\n",
    "    norm_test = norm(test_data)\n",
    "    try:\n",
    "        sym = sym.replace(\".csv\",\"\")\n",
    "        curr_data['Close time'] = curr_data['Close time'].astype('datetime64[ns]')\n",
    "        curr_data.set_index('Close time',inplace=True, drop=True)\n",
    "        print(\"====={} start datetime:{}=====\".format(sym,curr_data.index[0]))\n",
    "        train_data = train_data.iloc[:,1:]\n",
    "        corr_matrix = train_data.values\n",
    "        print(sym,corr_matrix.shape)\n",
    "        total_len = 1439*len(train_data.columns)\n",
    "        data = corr_matrix.reshape(total_len)\n",
    "        print(data.shape)\n",
    "        for c,i in enumerate(train_data.columns):\n",
    "            if(c==9):\n",
    "                break\n",
    "            num_cols = len(train_data.columns)\n",
    "            #print(num_cols)\n",
    "            Xs = data[c::num_cols]\n",
    "            #print(Xs.shape)\n",
    "            look_back = 1\n",
    "            trainX, trainY = create_dataset(Xs, look_back)\n",
    "            testX, testY = create_dataset(test_data, look_back)\n",
    "            pct = (c/10)*100\n",
    "            print(\"{}% trained for {}\".format(pct,sym))\n",
    "            # reshape input to be [samples, time steps, features]\n",
    "            trainX = np.reshape(trainX, (trainX.shape[0], 1, trainX.shape[1]))\n",
    "            testX = np.reshape(testX, (testX.shape[0], 1, testX.shape[1]))\n",
    "            model = Sequential()\n",
    "            model.add(LSTM(100, input_shape=(1, look_back)))\n",
    "            model.add(Dense(1))\n",
    "            model.compile(loss='mean_squared_error', optimizer='adam')\n",
    "            #model.fit(trainX, trainY, epochs=10, batch_size=100, verbose=0)\n",
    "            \n",
    "        model.fit(testX[1439:],testY[1439:], epochs=2)\n",
    "        testPredict = model.predict(testX[:1439])\n",
    "        model_data = pd.DataFrame(testPredict)\n",
    "        test_data = pd.DataFrame(test_data)\n",
    "        model = None\n",
    "        model_data.loc[-1] = 0\n",
    "        shifted_2 = model_data.shift(2)\n",
    "        concat_data = None\n",
    "        concat_data = all_data[1440:]\n",
    "        concat_data['norm_close'] = norm(norm_test[1440:])\n",
    "        concat_data['shifted_2']= shifted_2.values\n",
    "        concat_data['shifted_2'].fillna(method='bfill', inplace=True)\n",
    "        concat_data['Norm Close'] = norm(concat_data['Close'])\n",
    "        data, shft2 = model_strat(concat_data)\n",
    "        model_dir = './model_outputs/'+sym+\".csv\"\n",
    "        concat_data.to_csv(model_dir)\n",
    "        print(\"====={} training complete!=====\".format(sym))\n",
    "        #if(ci%5==0):\n",
    "            #time.sleep()\n",
    "    except Exception as e:\n",
    "        print(e)\n",
    "#print(train_data.head(),\"\\n\", len(train_data))"
   ]
  },
  {
   "cell_type": "code",
   "execution_count": null,
   "metadata": {},
   "outputs": [],
   "source": []
  }
 ],
 "metadata": {
  "kernelspec": {
   "display_name": "Python 3",
   "language": "python",
   "name": "python3"
  },
  "language_info": {
   "codemirror_mode": {
    "name": "ipython",
    "version": 3
   },
   "file_extension": ".py",
   "mimetype": "text/x-python",
   "name": "python",
   "nbconvert_exporter": "python",
   "pygments_lexer": "ipython3",
   "version": "3.6.3"
  }
 },
 "nbformat": 4,
 "nbformat_minor": 2
}
