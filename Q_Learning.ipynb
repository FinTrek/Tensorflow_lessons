{
 "cells": [
  {
   "cell_type": "code",
   "execution_count": 3,
   "metadata": {},
   "outputs": [],
   "source": [
    "import datetime\n",
    "from time import sleep\n",
    "from binance.client import Client\n",
    "import pandas as pd\n",
    "#from google_finance import Share\n",
    "import matplotlib.pyplot as plt\n",
    "import random\n",
    "import tensorflow as tf"
   ]
  },
  {
   "cell_type": "code",
   "execution_count": 4,
   "metadata": {},
   "outputs": [],
   "source": [
    "#add your api keys here\n",
    "api_key = 'XuozVlFg2WYVemwmHMqCK9j5jSYIV1z3MoDAXY76X2JiCbbgcw7dGxvE0eGVsqhH'\n",
    "secret_key = 'WyWBCdczLCFvV8fKy16R5dOwhhjK31T7ZrW0cplIzjrvmlSPh5E1KEeAEh5c9I6s'\n",
    "client = Client(api_key, secret_key)\n"
   ]
  },
  {
   "cell_type": "code",
   "execution_count": 5,
   "metadata": {},
   "outputs": [],
   "source": [
    "def get_hist_prices(sym):\n",
    "    last_price = client.get_historical_klines(sym,client.KLINE_INTERVAL_1MINUTE,\"1 day ago\")\n",
    "    print(last_price)\n",
    "    return last_price\n",
    "def get_live_prices(sym):\n",
    "    return 0\n"
   ]
  },
  {
   "cell_type": "code",
   "execution_count": null,
   "metadata": {},
   "outputs": [],
   "source": [
    "sym = \"wavesbtc\"#input('Enter sym: ')\n",
    "sym = sym.upper()\n",
    "if__name__ == '__main__':\n",
    "    prices = get_hist_prices(sym)\n",
    "    #update action options\n",
    "    actions = ['Buy','Sell','Hold']\n",
    "    hist = 400\n",
    "    RandomDecisionPolicy(actions)\n",
    "    QlearningDecisionPolicy(actions)\n",
    "    budget = 1000.0\n",
    "    coin_bal = 0\n",
    "    avg,std = run_simulations(policy,budget,coin_bal,prices,hist)\n",
    "    print(avg,std)\n",
    "    \n",
    "class DecisionPolicy:\n",
    "    def take_action(self,current_state, step):\n",
    "        pass\n",
    "    def update_q(self,states,action,reward,next_state):\n",
    "        pass\n",
    "class RandomDecisionPolicy(DecisionPolicy):\n",
    "    def __init__(self,actions):\n",
    "        self.actions = actions\n",
    "    #update select action with further functions or datasets\n",
    "    def select_action(self,current_state,step):\n",
    "        action = self.actions[random.randint(0,len(self.actions)-1)]\n",
    "        return action\n",
    "class QLearningDecisionPolicy(DescisionPolicy):\n",
    "    def __init__(self,actions,input_dim):\n",
    "        self.epsilon = .5\n",
    "        self.gamma = .001\n",
    "        self.actions = actions\n",
    "        output_dim = len(actions)\n",
    "        h1_dim = 200\n",
    "        self.x  = tf.placeholder(tf.float32,[None,input_dim])\n",
    "        self.y = tf.placeholder(tf.float32,[None, output_dim])\n",
    "        #weights\n",
    "        W1 = tf.Variable(tf.random_normal([input_dim,h1_dim]))\n",
    "        #bias\n",
    "        b1 = tf.Variable(tf.constant(0.1,shape=[h1_dim]))\n",
    "        h1 = tf.nn.relu(tf.matmul(self.x,W1)+b1)\n",
    "        #2nd layer weights\n",
    "        W2 = tf.Variable(tf.random_normal([h1_dim,output_dim]))\n",
    "        #2nd layr bias\n",
    "        b2 = tf.Variable(tf.constant(0.1,shape=[output_dim]))\n",
    "        self.q = tf.nn.relu(tf.matmul(h1,W2)+b2)\n",
    "        loss. = tf.square(self.y-self.q)\n",
    "        #train\n",
    "        self.train_op = tf.train.GradientDescentOptimizer(.01).minimize(loss)\n",
    "        def select_action(self,current_state,step):\n",
    "            threshold = min(self.epsilon,step/1000.0)\n",
    "            if(random.random()<threshold):\n",
    "                action_idx = np.argmax(action_qvals)\n",
    "                action = self.actions[random.randint(0,len(self.actions)-1)]\n",
    "                \n",
    "                \n",
    "            "
   ]
  }
 ],
 "metadata": {
  "kernelspec": {
   "display_name": "Python 3",
   "language": "python",
   "name": "python3"
  },
  "language_info": {
   "codemirror_mode": {
    "name": "ipython",
    "version": 3
   },
   "file_extension": ".py",
   "mimetype": "text/x-python",
   "name": "python",
   "nbconvert_exporter": "python",
   "pygments_lexer": "ipython3",
   "version": "3.6.3"
  }
 },
 "nbformat": 4,
 "nbformat_minor": 2
}
