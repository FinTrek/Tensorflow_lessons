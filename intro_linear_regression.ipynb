{
 "cells": [
  {
   "cell_type": "markdown",
   "metadata": {},
   "source": [
    "Linear regression tutorial\n",
    "===\n",
    "-yay\n",
    "Linear regression is similar to a line of best fit. However, instead of focusing on drawing a line that touches the most points, you want a line that sit most evenly between all points.\n",
    "\n"
   ]
  },
  {
   "cell_type": "code",
   "execution_count": null,
   "metadata": {},
   "outputs": [],
   "source": []
  },
  {
   "cell_type": "code",
   "execution_count": 1,
   "metadata": {},
   "outputs": [],
   "source": [
    "import numpy as np\n",
    "import tensorflow as tf\n",
    "import matplotlib.pyplot as plt\n",
    "from IPython.core.display import HTML\n",
    "from IPython.display import Image"
   ]
  },
  {
   "cell_type": "code",
   "execution_count": 2,
   "metadata": {},
   "outputs": [
    {
     "data": {
      "text/html": [
       "<img src=\"http://www.sthda.com/english/sthda-upload/images/machine-learning-essentials/linear-regression.png\"/>"
      ],
      "text/plain": [
       "<IPython.core.display.Image object>"
      ]
     },
     "execution_count": 2,
     "metadata": {},
     "output_type": "execute_result"
    }
   ],
   "source": [
    "Image(url='http://www.sthda.com/english/sthda-upload/images/machine-learning-essentials/linear-regression.png')"
   ]
  },
  {
   "cell_type": "markdown",
   "metadata": {},
   "source": [
    "### First we are going to create some random points based of a cos function"
   ]
  },
  {
   "cell_type": "code",
   "execution_count": 3,
   "metadata": {},
   "outputs": [
    {
     "name": "stderr",
     "output_type": "stream",
     "text": [
      "/home/me/.local/lib/python3.6/site-packages/matplotlib/figure.py:418: UserWarning: matplotlib is currently using a non-GUI backend, so cannot show the figure\n",
      "  \"matplotlib is currently using a non-GUI backend, \"\n"
     ]
    },
    {
     "data": {
      "image/png": "[encoded data removed]",
      "text/plain": [
       "<matplotlib.figure.Figure at 0x7fd5de8e9048>"
      ]
     },
     "metadata": {},
     "output_type": "display_data"
    }
   ],
   "source": [
    "\n",
    "plt.ion()\n",
    "num_points = 100\n",
    "fig, ax = plt.subplots(1, 1)\n",
    "xs = np.linspace(-3, 3, num_points)\n",
    "ys = np.sin(xs) + np.random.uniform(-0.5, 0.5, num_points)\n",
    "ax.scatter(xs, ys)\n",
    "fig.show()\n",
    "plt.draw()"
   ]
  },
  {
   "cell_type": "markdown",
   "metadata": {},
   "source": [
    "Next we create placeholders for our input and output\n",
    "==="
   ]
  },
  {
   "cell_type": "code",
   "execution_count": 4,
   "metadata": {},
   "outputs": [],
   "source": [
    "input_data = tf.placeholder(tf.float32)\n",
    "output_data = tf.placeholder(tf.float32)"
   ]
  },
  {
   "cell_type": "markdown",
   "metadata": {},
   "source": [
    "### Create the variables for weights and biases\n"
   ]
  },
  {
   "cell_type": "code",
   "execution_count": 5,
   "metadata": {},
   "outputs": [],
   "source": [
    "W = tf.Variable(tf.random_normal([1]), name='weight')\n",
    "b = tf.Variable(tf.random_normal([1]), name='bias')\n",
    "Y_pred = tf.add(tf.multiply(input_data, W), b)"
   ]
  },
  {
   "cell_type": "markdown",
   "metadata": {},
   "source": [
    "### We use mean squared error here just as before in our prior example.\n"
   ]
  },
  {
   "cell_type": "code",
   "execution_count": 6,
   "metadata": {},
   "outputs": [],
   "source": [
    "loss = tf.reduce_sum(tf.pow(Y_pred - output_data, 2)) / (num_points - 1)"
   ]
  },
  {
   "cell_type": "markdown",
   "metadata": {},
   "source": [
    "Optimize Using Gradient Descent\n",
    "==="
   ]
  },
  {
   "cell_type": "code",
   "execution_count": 7,
   "metadata": {},
   "outputs": [],
   "source": [
    "learning_rate = 0.01\n",
    "optimizer = tf.train.GradientDescentOptimizer(learning_rate).minimize(loss)"
   ]
  },
  {
   "cell_type": "markdown",
   "metadata": {},
   "source": [
    "Create the Tensorflow session\n",
    "==="
   ]
  },
  {
   "cell_type": "code",
   "execution_count": 8,
   "metadata": {
    "scrolled": false
   },
   "outputs": [
    {
     "name": "stdout",
     "output_type": "stream",
     "text": [
      "1.36706\n",
      "1.25144\n",
      "1.14882\n",
      "1.05771\n",
      "0.976788\n"
     ]
    },
    {
     "name": "stderr",
     "output_type": "stream",
     "text": [
      "/home/me/.local/lib/python3.6/site-packages/matplotlib/figure.py:418: UserWarning: matplotlib is currently using a non-GUI backend, so cannot show the figure\n",
      "  \"matplotlib is currently using a non-GUI backend, \"\n"
     ]
    },
    {
     "name": "stdout",
     "output_type": "stream",
     "text": [
      "0.904879\n",
      "0.840952\n",
      "0.784092\n",
      "0.733491\n",
      "0.688434\n",
      "0.64829\n",
      "0.612498\n",
      "0.580566\n",
      "0.552056\n",
      "0.526581\n",
      "0.503798\n",
      "0.483406\n",
      "0.465135\n",
      "0.448749\n",
      "0.434038\n",
      "0.420815\n",
      "0.408917\n",
      "0.398198\n",
      "0.388528\n",
      "0.379794\n",
      "0.371893\n",
      "0.364736\n",
      "0.358243\n",
      "0.352344\n",
      "0.346976\n",
      "0.342083\n",
      "0.337616\n",
      "0.33353\n",
      "0.329788\n",
      "0.326354\n",
      "0.323197\n",
      "0.32029\n",
      "0.317609\n",
      "0.315131\n",
      "0.312838\n",
      "0.310712\n",
      "0.308737\n",
      "0.3069\n",
      "0.305189\n",
      "0.303591\n",
      "0.302098\n",
      "0.300701\n",
      "0.299391\n",
      "0.298161\n",
      "0.297005\n",
      "0.295917\n",
      "0.294892\n",
      "0.293925\n",
      "0.293011\n",
      "0.292148\n",
      "0.29133\n",
      "0.290556\n",
      "0.289821\n",
      "0.289124\n",
      "0.288463\n",
      "0.287834\n",
      "0.287235\n",
      "0.286666\n",
      "0.286124\n",
      "0.285607\n",
      "0.285114\n",
      "0.284645\n",
      "0.284196\n",
      "0.283768\n",
      "0.28336\n",
      "0.282969\n",
      "0.282596\n",
      "0.282239\n",
      "0.281898\n",
      "0.281571\n",
      "0.281259\n",
      "0.28096\n",
      "0.280674\n",
      "0.2804\n",
      "0.280138\n",
      "0.279887\n",
      "0.279647\n",
      "0.279416\n",
      "0.279195\n",
      "0.278984\n",
      "0.278781\n",
      "0.278587\n",
      "0.278401\n",
      "0.278222\n",
      "0.278051\n",
      "0.277887\n",
      "0.27773\n",
      "0.27758\n",
      "0.277435\n",
      "0.277297\n",
      "0.277164\n",
      "0.277037\n",
      "0.276915\n",
      "0.276798\n",
      "0.276685\n",
      "0.276578\n",
      "0.276475\n",
      "0.276376\n",
      "0.276281\n",
      "0.27619\n",
      "0.276103\n",
      "0.276019\n",
      "0.275939\n",
      "0.275862\n",
      "0.275788\n",
      "0.275718\n",
      "0.27565\n",
      "0.275585\n",
      "0.275523\n",
      "0.275463\n",
      "0.275406\n",
      "0.275351\n",
      "0.275298\n",
      "0.275248\n",
      "0.2752\n",
      "0.275153\n",
      "0.275109\n",
      "0.275066\n",
      "0.275026\n",
      "0.274987\n",
      "0.274949\n",
      "0.274913\n",
      "0.274879\n",
      "0.274846\n",
      "0.274814\n",
      "0.274784\n",
      "0.274755\n",
      "0.274727\n",
      "0.274701\n",
      "0.274675\n",
      "0.274651\n",
      "0.274628\n",
      "0.274605\n",
      "0.274584\n",
      "0.274563\n",
      "0.274544\n",
      "0.274525\n",
      "0.274507\n",
      "0.27449\n",
      "0.274473\n",
      "0.274457\n",
      "0.274442\n",
      "0.274428\n",
      "0.274414\n",
      "0.274401\n",
      "0.274388\n",
      "0.274376\n",
      "0.274364\n",
      "0.274353\n",
      "0.274343\n",
      "0.274332\n",
      "0.274323\n",
      "0.274313\n",
      "0.274305\n",
      "0.274296\n",
      "0.274288\n",
      "0.27428\n",
      "0.274273\n",
      "0.274266\n",
      "0.274259\n",
      "0.274253\n",
      "0.274246\n",
      "0.274241\n",
      "0.274235\n",
      "0.27423\n",
      "0.274225\n",
      "0.27422\n",
      "0.274215\n",
      "0.274211\n",
      "0.274206\n",
      "0.274202\n",
      "0.274198\n",
      "0.274195\n",
      "0.274191\n",
      "0.274188\n",
      "0.274185\n",
      "0.274182\n",
      "0.274179\n",
      "0.274176\n",
      "0.274174\n",
      "0.274171\n",
      "0.274169\n",
      "0.274166\n",
      "0.274164\n",
      "0.274162\n",
      "0.27416\n",
      "0.274159\n",
      "0.274157\n",
      "0.274155\n",
      "0.274154\n",
      "0.274152\n",
      "0.274151\n",
      "0.274149\n",
      "0.274148\n",
      "0.274147\n",
      "0.274146\n",
      "0.274145\n",
      "0.274144\n"
     ]
    },
    {
     "data": {
      "text/plain": [
       "<matplotlib.figure.Figure at 0x7fd5dc42da20>"
      ]
     },
     "metadata": {},
     "output_type": "display_data"
    }
   ],
   "source": [
    "n_epochs = 1000\n",
    "with tf.Session() as sess:\n",
    "    #initalize all variable\n",
    "    sess.run(tf.global_variables_initializer())\n",
    "\n",
    "    # Fit all training data\n",
    "    prev_training_cost = 0.0\n",
    "    for epoch_i in range(n_epochs):\n",
    "        for (x, y) in zip(xs, ys):\n",
    "            sess.run(optimizer, feed_dict={input_data: x, output_data: y})\n",
    "\n",
    "        training_cost = sess.run(\n",
    "            loss, feed_dict={input_data: xs, output_data: ys})\n",
    "        print(training_cost)\n",
    "\n",
    "        if epoch_i % 20 == 0:\n",
    "            ax.plot(xs, Y_pred.eval(\n",
    "                feed_dict={input_data: xs}, session=sess),\n",
    "                    'k', alpha=epoch_i / n_epochs)\n",
    "            fig.show()\n",
    "            plt.draw()\n",
    "\n",
    "        # Allow the training to quit if we've reached a minimum\n",
    "        if np.abs(prev_training_cost - training_cost) < 0.000001:\n",
    "            break\n",
    "        prev_training_cost = training_cost\n",
    "fig.show()"
   ]
  },
  {
   "cell_type": "code",
   "execution_count": null,
   "metadata": {},
   "outputs": [],
   "source": []
  },
  {
   "cell_type": "code",
   "execution_count": null,
   "metadata": {},
   "outputs": [],
   "source": []
  }
 ],
 "metadata": {
  "kernelspec": {
   "display_name": "Python 3",
   "language": "python",
   "name": "python3"
  },
  "language_info": {
   "codemirror_mode": {
    "name": "ipython",
    "version": 3
   },
   "file_extension": ".py",
   "mimetype": "text/x-python",
   "name": "python",
   "nbconvert_exporter": "python",
   "pygments_lexer": "ipython3",
   "version": "3.6.3"
  }
 },
 "nbformat": 4,
 "nbformat_minor": 1
}
