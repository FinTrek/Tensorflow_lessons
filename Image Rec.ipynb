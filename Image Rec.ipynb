{
 "cells": [
  {
   "cell_type": "code",
   "execution_count": null,
   "metadata": {},
   "outputs": [],
   "source": [
    "import tensorflow as tf\n",
    "import numpy as np\n",
    "import matplotlib.pyplot as plt\n",
    "import cv2\n",
    "import warnings\n",
    "warnings.filterwarnings('ignore')\n",
    "\n",
    "color_channels = 1\n",
    "image_height = 28\n",
    "image_width = 28\n",
    "\n",
    "class CNN:\n",
    "    def __init__(self, image_height, image_width, channels, num_classes):\n",
    "        # hold image date as in tensor placeholder\n",
    "        self.input_layer = tf.placeholder(dtype=tf.float32, shape= [None, image_height, image_width, channels], name= \"inputs\")\n",
    "        print(self.input_layer.shape)\n",
    "        \n",
    "        #this coonvolutional layer takes the input data and grabs the kenrel_zie and breaks\n",
    "        #that size off and passes it thru an activation function that will test similarities to the rest of the image,\n",
    "        conv_layer_1 = tf.layers.conv2d(self.input_layer, filters=32, kernel_size =[2, 2], padding=\"same\", activation=tf.nn.relu)\n",
    "        print(conv_layer_1.shape)\n",
    "        \n",
    "        #pooling layer removes precision of image data\n",
    "        pooling_layer_1 = tf.layers.max_pooling2d(conv_layer_1, pool_size=[2, 2], strides = 2)\n",
    "        print(pooling_layer_1.shape)\n",
    "        \n",
    "        #runs a second convolutional layer to take chunk up a second time\n",
    "        conv_layer_2 = tf.layers.conv2d(pooling_layer_1, filters=64, kernel_size=[2, 2], padding=\"same\", activation= tf.nn.relu)\n",
    "        print(conv_layer_2.shape)\n",
    "        \n",
    "        #flatten the data\n",
    "        \n",
    "        flattened_pooling = tf.layers.flatten(pooling_layer_2)\n",
    "        print(\"Flattened: \" + str(flattened_pooling.shape) )\n",
    "        \n",
    "        # neural network containing 1024\n",
    "        dense_layer = tf.layers.dense(flattened_pooling, 1024, activation=tf.nm.relu)\n",
    "        print(\"Dense: \" + str(dense_layer.shape))\n",
    "        dropout = tf.layers.dropout(dense_layer, rate = 0.4, training=True)\n",
    "        print(\"Dropout: \" + str(dropout.shape))\n",
    "        outputs = tf.layers.dense(dropout, num_classes)\n",
    "        print(\"Outputs: \" + str(outputs.shape))\n",
    "        \n",
    "        self.choice = tf.argmax(outputs, axis=1)\n",
    "        self.probability = tf.nn.softmax(outputs)\n",
    "        \n",
    "        self.labels = tf.placeholder(dtype=tf.float32, name=\"labels\")\n",
    "        self.accuracy, self.accuracy_op = tf.metrics.accuracy(self.labels, self.choice)\n",
    "        \n",
    "        one_hot_labels = tf.one_hot(indices=tf.cast(self.labels, dtype=tf.int32),\n",
    "        self.loss = tf.losses.softmax_cross_entropy(onehot_labels=one_hot_labels, logits=outputs)\n",
    "                                    \n",
    "        optimizer = tf.train.GradientDescentOptimizer(learning_rate=1e-2)\n",
    "        self.train_operation = optimizer.minimize(self.loss, global_step=tf.train.get_global_step())"
   ]
  },
  {
   "cell_type": "code",
   "execution_count": null,
   "metadata": {},
   "outputs": [],
   "source": [
    "from tensorflow.examples.tutorials.mnist import input_data\n",
    "data_images = input_data.read_data_sets('data/fashion/')\n",
    "\n",
    "#data labels = input_daya.read_data_sets('data/fashion/train_labels')\n",
    "\n",
    "#eval_data = input_data.read_data_sets('data/fashion/eval_images')\n",
    "#eval_labels = input_data.read_data_sets('data/fashion/eval_labels')\n",
    "#print(data)\n",
    "\n",
    "eval_im = data_images.test.images\n",
    "eval_lab = np.asarray(data_images.test.labels, dtype=np.int32)\n",
    "print(eval_lab)\n",
    "e = eval_im[0].reshape(28, 28)\n",
    "plt.imshow(e)\n",
    "plt.show()"
   ]
  },
  {
   "cell_type": "code",
   "execution_count": null,
   "metadata": {},
   "outputs": [],
   "source": []
  },
  {
   "cell_type": "code",
   "execution_count": null,
   "metadata": {},
   "outputs": [],
   "source": []
  },
  {
   "cell_type": "code",
   "execution_count": null,
   "metadata": {},
   "outputs": [],
   "source": []
  },
  {
   "cell_type": "code",
   "execution_count": null,
   "metadata": {},
   "outputs": [],
   "source": []
  }
 ],
 "metadata": {
  "kernelspec": {
   "display_name": "Python 3",
   "language": "python",
   "name": "python3"
  },
  "language_info": {
   "codemirror_mode": {
    "name": "ipython",
    "version": 3
   },
   "file_extension": ".py",
   "mimetype": "text/x-python",
   "name": "python",
   "nbconvert_exporter": "python",
   "pygments_lexer": "ipython3",
   "version": "3.7.1"
  }
 },
 "nbformat": 4,
 "nbformat_minor": 2
}
