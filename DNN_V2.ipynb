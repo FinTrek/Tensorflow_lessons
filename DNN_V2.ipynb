{
 "cells": [
  {
   "cell_type": "code",
   "execution_count": 3,
   "metadata": {},
   "outputs": [
    {
     "name": "stderr",
     "output_type": "stream",
     "text": [
      "Using TensorFlow backend.\n",
      "WARNING (theano.tensor.blas): Using NumPy C-API based implementation for BLAS functions.\n"
     ]
    }
   ],
   "source": [
    "import matplotlib.pylab as plt\n",
    "import seaborn as sns\n",
    "import re\n",
    "import os\n",
    "sns.despine()\n",
    "import keras.layers\n",
    "from backtest import *\n",
    "from keras.models import Sequential\n",
    "from keras.layers.core import Dense, Dropout, Activation, Flatten\n",
    "from keras.layers.normalization import BatchNormalization\n",
    "from keras.callbacks import ModelCheckpoint, ReduceLROnPlateau, CSVLogger, EarlyStopping\n",
    "from keras.optimizers import RMSprop, Adam, SGD, Nadam\n",
    "from keras.layers.advanced_activations import *\n",
    "from keras.layers import Convolution1D, MaxPooling1D, AtrousConvolution1D\n",
    "from keras.layers.recurrent import LSTM, GRU\n",
    "from keras import regularizers\n",
    "import pandas as pd\n",
    "import theano\n",
    "import datetime\n",
    "import numpy as np\n",
    "theano.config.compute_test_value = \"ignore\"\n"
   ]
  },
  {
   "cell_type": "code",
   "execution_count": 19,
   "metadata": {},
   "outputs": [],
   "source": [
    "def unix_to_datetime(data, column):\n",
    "    for i in data[column]:\n",
    "        dt = datetime.datetime.fromtimestamp(int(i)/1000).strftime('%y-%m-%d %H:%M:%S')\n",
    "        #print(dt)\n",
    "   # print(data[column].head())\n",
    "    data[column] = dt\n",
    "    return data\n",
    "\n",
    "def get_last_time():\n",
    "    return 0\n",
    "\n",
    "def shuffle_in_unison(a, b):\n",
    "    # courtsey http://stackoverflow.com/users/190280/josh-bleecher-snyder\n",
    "    assert len(a) == len(b)\n",
    "    shuffled_a = np.empty(a.shape, dtype=a.dtype)\n",
    "    shuffled_b = np.empty(b.shape, dtype=b.dtype)\n",
    "    permutation = np.random.permutation(len(a))\n",
    "    for old_index, new_index in enumerate(permutation):\n",
    "        shuffled_a[new_index] = a[old_index]\n",
    "        shuffled_b[new_index] = b[old_index]\n",
    "    return shuffled_a, shuffled_b\n",
    "\n",
    "def get_latest():\n",
    "    full_data = pd.read_csv('/home/me/Documents/binance_concat.csv') #bw_data/AIONBTC.csv')\n",
    "    full_labels = pd.read_csv('/home/me/Documents/binance_sym_labels.csv')\n",
    "    end = int(len(full_data))-2880\n",
    "    last = full_data[end:]\n",
    "    last_sym = full_labels\n",
    "    print(last_sym[\"0\"].iloc[len(last_sym)-1])\n",
    "    return last, last_sym\n",
    "#last, last_sym = get_latest()\n",
    "#print(last)\n",
    "\n",
    "def create_Xt_Yt(X, y, percentage=0.9):\n",
    "    p = int(len(X) * percentage)\n",
    "    p = int(len(X) * percentage)\n",
    "    X_train = X[0:p]\n",
    "    Y_train = y[0:p]\n",
    "     \n",
    "    X_train, Y_train = shuffle_in_unison(X_train, Y_train)\n",
    " \n",
    "    X_test = X[p:]\n",
    "    Y_test = y[p:]\n",
    "\n",
    "    return X_train, X_test, Y_train, Y_test\n",
    "\n",
    "def hasNumbers(inputString):\n",
    "    return bool(re.search(r'\\d', inputString))\n",
    "def normalize(x):\n",
    "    X = []\n",
    "    for i in x:\n",
    "        \n",
    "        x =x.divide(x.iloc[0]).multiply(100)\n",
    "    print(len(x))\n",
    "    #minmax\n",
    "    #X = [(np.array(x) - np.mean(x)) / np.std(x) for x in X]\n",
    "    return float(x)"
   ]
  },
  {
   "cell_type": "code",
   "execution_count": 38,
   "metadata": {},
   "outputs": [
    {
     "name": "stdout",
     "output_type": "stream",
     "text": [
      "627840 218\n",
      "Adding MODBTC to train data...\n",
      "Adding WTCBTC to train data...\n",
      "Adding BCDBTC to train data...\n",
      "8640 4\n"
     ]
    },
    {
     "name": "stderr",
     "output_type": "stream",
     "text": [
      "/home/me/catalyst-venv/lib/python3.6/site-packages/ipykernel_launcher.py:27: SettingWithCopyWarning: \n",
      "A value is trying to be set on a copy of a slice from a DataFrame.\n",
      "Try using .loc[row_indexer,col_indexer] = value instead\n",
      "\n",
      "See the caveats in the documentation: http://pandas.pydata.org/pandas-docs/stable/indexing.html#indexing-view-versus-copy\n"
     ]
    }
   ],
   "source": [
    "\"\"\"bws = os.listdir('/home/me/Documents/bw_data/')\n",
    "bw_coins = {}\n",
    "for i in bws:\n",
    "    if(hasNumbers(i)==False):\n",
    "        i = i.replace(\".csv\",\"\")\n",
    "        bw_coins[i] = 0\n",
    "    elif(hasNumbers(i)):\n",
    "        i = i.replace(\".csv\",\"\")\n",
    "        i=i.split()\n",
    "        bw_coins[i]=c\n",
    "print(bw_coins)      \"\"\"  \n",
    "\n",
    "    \n",
    "full_data = pd.read_csv('/home/me/Documents/binance_concat.csv') #bw_data/AIONBTC.csv')\n",
    "full_labels = pd.read_csv('/home/me/Documents/binance_sym_labels.csv')\n",
    "print(len(full_data), len(full_labels))\n",
    "num_read = 3\n",
    "\n",
    "data = {}\n",
    "norm_close = [0]\n",
    "for i in range(1,num_read+1):\n",
    "    start = (i-1)*2880\n",
    "    end= i*2880\n",
    "    print(\"Adding {} to train data...\".format(full_labels[\"0\"].loc[i]))\n",
    "    curr = full_data[start:end]\n",
    "    #concat_data[\"norm close\"] = norm_close\n",
    "    curr[\"Norm Close\"] = curr[\"Close\"].divide(curr[\"Close\"].iloc[0]).multiply(100)\n",
    "    norm_close.append(normalize(curr[\"Close\"].divide(curr[\"Close\"].iloc[0]).multiply(100)))\n",
    "    data[full_labels[\"0\"].iloc[i]] = curr\n",
    "concat_data = full_data[:end]\n",
    "print(len(concat_data), len(norm_close))\n",
    "#print(concat_data.columns, int(len(concat_data[\"Open\"]))/2880)\n",
    "del full_data\n",
    "data_syms = list(data.keys())\n",
    "#print(concat_data[\"Close\"])"
   ]
  },
  {
   "cell_type": "code",
   "execution_count": null,
   "metadata": {},
   "outputs": [],
   "source": [
    "price = concat_data[\"Open\"]\n",
    "high = concat_data[\"High\"]\n",
    "low = concat_data[\"Low\"]\n",
    "close = concat_data[\"Close\"]\n",
    "volume = concat_data[\"Volume\"]\n",
    "dt = concat_data[\"Open time\"]\n",
    "buy_btc = concat_data[\"buyBtc\"]\n",
    "buy_sym = concat_data[\"buySym\"]\n",
    "x=close\n",
    "\n"
   ]
  },
  {
   "cell_type": "code",
   "execution_count": 29,
   "metadata": {},
   "outputs": [
    {
     "name": "stdout",
     "output_type": "stream",
     "text": [
      "0    0.000286\n",
      "1    0.000285\n",
      "2    0.000285\n",
      "3    0.000285\n",
      "4    0.000285\n",
      "Name: Close, dtype: float64\n"
     ]
    },
    {
     "data": {
      "image/png": "[encoded data removed]",
      "text/plain": [
       "<Figure size 432x288 with 1 Axes>"
      ]
     },
     "metadata": {},
     "output_type": "display_data"
    },
    {
     "name": "stdout",
     "output_type": "stream",
     "text": [
      "9\n"
     ]
    }
   ],
   "source": [
    "data = pd.read_csv('/home/me/Documents/BWA/data/bw_data/AIONBTC1.csv')\n",
    "#print(data.columns)\n",
    "try:\n",
    "    data = unix_to_datetime(dt,'Open time')\n",
    "    #data = unix_to_datetime(dt,'Close time')\n",
    "    #print(data.head())\n",
    "except Exception as e:\n",
    "    print(e)\n",
    "data = data.ix[:, 'Close']#.tolist()\n",
    "print(data.head())\n",
    "\n",
    "# Uncomment below to use price change time series\n",
    "# data = data.ix[:, 'Adj Close'].pct_change().dropna().tolist()\n",
    "\n",
    "plt.plot(data)\n",
    "plt.show()\n",
    "\n",
    "WINDOW = 10\n",
    "EMB_SIZE = 1\n",
    "STEP = 1\n",
    "FORECAST = 5\n",
    "\n",
    "# Straightforward way for creating time windows\n",
    "X, Y = [], []\n",
    "for i in range(0, len(data), STEP): \n",
    "    try:\n",
    "        x_i = data[i:i+WINDOW]\n",
    "        y_i = data[i+WINDOW+FORECAST]  \n",
    "\n",
    "        last_close = x_i[WINDOW-1]\n",
    "        next_close = y_i\n",
    "        #create binary price signals\n",
    "        if last_close < next_close:\n",
    "            y_i = [1, 0]\n",
    "        else:\n",
    "            y_i = [0, 1] \n",
    "\n",
    "    except Exception as e:\n",
    "        print(e)\n",
    "        break\n",
    "\n",
    "    X.append(x_i)\n",
    "    Y.append(y_i)\n",
    "\n",
    "X = [(np.array(x) - np.mean(x)) / np.std(x) for x in X] # comment it to remove normalization\n",
    "X, Y = np.array(X), np.array(Y)\n",
    "\n",
    "X_train, X_test, Y_train, Y_test = create_Xt_Yt(X, Y)"
   ]
  },
  {
   "cell_type": "code",
   "execution_count": null,
   "metadata": {},
   "outputs": [],
   "source": [
    "model = Sequential()\n",
    "#model.add(LSTM(32))\n",
    "model.add(Dense(64, input_dim=5,\n",
    "                activity_regularizer=regularizers.l2(0.01)))\n",
    "model.add(BatchNormalization())\n",
    "model.add(LeakyReLU())\n",
    "\n",
    "model.add(Dropout(0.5))\n",
    "model.add(Dense(16))\n",
    "                #activity_regularizer=regularizers.l2(0.01)))\n",
    "model.add(BatchNormalization())\n",
    "model.add(LeakyReLU())\n",
    "model.add(Dense(2))\n",
    "model.add(Activation('softmax'))\n",
    "\n",
    "opt = Nadam(lr=0.01)\n",
    "\n",
    "#reduce_lr = ReduceLROnPlateau(monitor='val_acc', factor=0.9, patience=25, min_lr=0.000001, verbose=1)\n",
    "checkpointer = ModelCheckpoint(filepath=\"./MODELS/test.hdf5\", verbose=1, save_best_only=True)\n",
    "model.compile(optimizer=opt, \n",
    "              loss='categorical_crossentropy',\n",
    "              metrics=['accuracy'])"
   ]
  },
  {
   "cell_type": "code",
   "execution_count": null,
   "metadata": {},
   "outputs": [],
   "source": [
    "history = model.fit(X_train, Y_train, \n",
    "          nb_epoch = 500, \n",
    "          batch_size = 60, \n",
    "          verbose=0, \n",
    "          validation_data=(X_test, Y_test))\n",
    "          #callbacks=[reduce_lr, checkpointer],\n",
    "          #shuffle=False)"
   ]
  },
  {
   "cell_type": "code",
   "execution_count": null,
   "metadata": {},
   "outputs": [],
   "source": [
    "plt.figure()\n",
    "plt.plot(history.history['loss'])\n",
    "plt.plot(history.history['val_loss'])\n",
    "plt.title('model loss')\n",
    "plt.ylabel('loss')\n",
    "plt.xlabel('epoch')\n",
    "plt.legend(['train', 'test'], loc='best')\n",
    "plt.show()\n",
    "\n",
    "plt.figure()\n",
    "plt.plot(history.history['acc'])\n",
    "plt.plot(history.history['val_acc'])\n",
    "plt.title('model accuracy')\n",
    "plt.ylabel('accuracy')\n",
    "plt.xlabel('epoch')\n",
    "plt.legend(['train', 'test'], loc='best')\n",
    "plt.show()"
   ]
  },
  {
   "cell_type": "code",
   "execution_count": null,
   "metadata": {},
   "outputs": [],
   "source": [
    "from sklearn.metrics import classification_report\n",
    "from sklearn.metrics import confusion_matrix\n",
    "\n",
    "pred = model.predict(np.array(X_test))\n",
    "C = confusion_matrix([np.argmax(y) for y in Y_test], [np.argmax(y) for y in pred])\n",
    "\n",
    "print (C / C.astype(np.float).sum(axis=1))\n",
    "\n",
    "FROM = 0\n",
    "TO = FROM + 500\n",
    "\n",
    "original = Y_test[FROM:TO]\n",
    "predicted = pred[FROM:TO] \n",
    "print(Y_test)\n",
    "plt.plot(original, color='black', label = 'Original data')\n",
    "plt.plot(predicted, color='blue', label = 'Predicted data')\n",
    "plt.legend(loc='best')\n",
    "plt.title('Actual and predicted from point %d to point %d of test set' % (FROM, TO))\n",
    "plt.show()"
   ]
  },
  {
   "cell_type": "code",
   "execution_count": null,
   "metadata": {},
   "outputs": [],
   "source": [
    "if np.argmax(pred) == 0 and not self.long_market:\n",
    "    self.long_market = True\n",
    "    signal = SignalEvent(1, sym, dt, 'LONG', 1.0)\n",
    "    self.events.put(signal)\n",
    "    print(pred, 'LONG')\n",
    "if np.argmax(pred) == 1 and self.long_market:\n",
    "    self.long_market = False\n",
    "    signal = SignalEvent(1, sym, dt, 'EXIT', 1.0)\n",
    "    self.events.put(signal)\n",
    "    print(pred, 'EXIT')"
   ]
  },
  {
   "cell_type": "code",
   "execution_count": null,
   "metadata": {},
   "outputs": [],
   "source": []
  }
 ],
 "metadata": {
  "kernelspec": {
   "display_name": "Python 3",
   "language": "python",
   "name": "python3"
  },
  "language_info": {
   "codemirror_mode": {
    "name": "ipython",
    "version": 3
   },
   "file_extension": ".py",
   "mimetype": "text/x-python",
   "name": "python",
   "nbconvert_exporter": "python",
   "pygments_lexer": "ipython3",
   "version": "3.6.3"
  }
 },
 "nbformat": 4,
 "nbformat_minor": 2
}
